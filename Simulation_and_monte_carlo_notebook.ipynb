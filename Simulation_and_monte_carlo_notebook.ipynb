{
 "cells": [
  {
   "cell_type": "code",
   "execution_count": 4,
   "metadata": {},
   "outputs": [],
   "source": [
    "import numpy as np\n",
    "#We used object oriented programmation for this project\n",
    "class ising:\n",
    "\n",
    "    def __init__(self, theta = (0, 0.2), size = 10, grid = None):\n",
    "        self.alpha = theta[0]\n",
    "        self.beta = theta[1]\n",
    "        self.size = size\n",
    "        if grid is None:\n",
    "            #Création of grid\n",
    "            self.grid = np.random.choice([-1, 1], size=(size, size), replace=True)\n",
    "        else:\n",
    "            self.grid = grid\n",
    "            \n",
    "#Method to compute the neighbours of one coordinate\n",
    "    def neighbours(self, i, j) :\n",
    "        l = []\n",
    "        if i <= self.size -1 and j <= self.size - 1 :\n",
    "            for k in [-1,1] :\n",
    "                if i - k >= 0 and i - k <= (self.size - 1):\n",
    "                    l.append((i-k,j))\n",
    "                if j - k >= 0 and j - k <= (self.size - 1) :\n",
    "                    l.append((i,j - k))\n",
    "            if i == 0 :\n",
    "                l.append(((self.size -1),j))\n",
    "            if i == self.size -1 :\n",
    "                l.append((0,j))\n",
    "            if j == 0 :\n",
    "                 l.append((i,(self.size -1)))\n",
    "            if j == self.size -1 :\n",
    "                l.append((i,0))\n",
    "            return l\n",
    "        else :\n",
    "             raise Exception('OUT OF GRID')\n",
    "         \n",
    "\n",
    "    def sum_neighbours(self, i, j):\n",
    "        l = []\n",
    "        for x in self.neighbours(i, j):\n",
    "            l.append(self.grid[x[0],x[1]])\n",
    "        return sum(l)\n",
    "    \n",
    "\n",
    "    def spin_conditional_prob(self, i, j):\n",
    "        e = np.exp(-(2 * (self.alpha + self.beta*self.sum_neighbours(i,j))))\n",
    "        return 1 / (1 + e)\n",
    "#Gibbs sampler    \n",
    "    def gibbs_sampling(self, N_iter):\n",
    "        grid = np.copy(self.grid)\n",
    "        mag_field = [np.sum(grid)]\n",
    "        for _ in range(N_iter):\n",
    "            random_index = np.random.randint(0, 10, size=2)\n",
    "            p = self.spin_conditional_prob(random_index[0],random_index[1])\n",
    "            u = np.random.uniform(0,1)\n",
    "            if u <= p:\n",
    "                grid[random_index[0], random_index[1]] = 1\n",
    "            else:\n",
    "                grid[random_index[0], random_index[1]] = -1\n",
    "            mag_field.append(np.sum(grid))\n",
    "        return grid,mag_field\n",
    "                    \n",
    "    def likelihood(self):\n",
    "            s = 0\n",
    "            for i in range(self.size):\n",
    "                for j in range(self.size):\n",
    "                    neighbours = self.neighbours(i, j)\n",
    "                    s+= sum(self.grid[i, j]*self.grid[neighbours[k][0], neighbours[k][1]] for k in range(len(neighbours)))\n",
    "            return np.exp(self.alpha*sum(self.grid[i, j] for i in range(self.size) for j in range (self.size)) + self.beta * s)\n",
    "        \n",
    "    \n",
    "    def exchange_algorithm(self, beta, N_iter, N_gibbs):\n",
    "\n",
    "        potential_final_beta = beta\n",
    "        beta_sample = []\n",
    "\n",
    "        for _ in range(N_iter):\n",
    "\n",
    "            # We generate a beta proposal using a gaussian perturbation\n",
    "            candidate_beta = np.random.normal(potential_final_beta, 0.1)\n",
    "            if candidate_beta >=0 and candidate_beta <= 1 :\n",
    "\n",
    "                # Then we approximate w thanks to Gibbs sampling\n",
    "                model = ising(theta = (0, candidate_beta), size = self.size, grid = self.grid)\n",
    "                w = model.gibbs_sampling(N_gibbs)[0]\n",
    "\n",
    "                # We now compute a\n",
    "                f_y_potential = ising(theta = (0, potential_final_beta), size = self.size, grid = self.grid)\n",
    "                f_y_candidate = ising(theta = (0, candidate_beta), size = self.size, grid = self.grid)\n",
    "                f_w_potential = ising(theta = (0, potential_final_beta), size = self.size, grid = w)\n",
    "                f_w_candidate = ising(theta = (0, candidate_beta), size = self.size, grid = w)\n",
    "                a =  min(1,(np.random.normal(candidate_beta, 0.1) * f_y_candidate.likelihood() * f_w_potential.likelihood()) / (np.random.normal(potential_final_beta, 0.1) * f_y_potential.likelihood() * f_w_candidate.likelihood()))\n",
    "                \n",
    "                # We now accept/reject\n",
    "                r = np.random.uniform(0, 1)\n",
    "                if r < a:\n",
    "                    potential_final_beta = candidate_beta\n",
    "                    f_y_potential = f_y_candidate\n",
    "            beta_sample.append(potential_final_beta)\n",
    "        return potential_final_beta  , beta_sample \n",
    "        \n",
    "    \n",
    "        \n"
   ]
  },
  {
   "cell_type": "code",
   "execution_count": null,
   "metadata": {},
   "outputs": [],
   "source": [
    "#Creation of an ising grid with the parameters of the paper\n",
    "isi = ising(theta = (0,0.2))\n",
    "\n",
    "isi.grid\n"
   ]
  },
  {
   "cell_type": "code",
   "execution_count": null,
   "metadata": {},
   "outputs": [],
   "source": [
    "#Execution of the gibbs sampler\n",
    "isi2 = isi.gibbs_sampling(50000)\n",
    "\n",
    "isi2[0]"
   ]
  },
  {
   "cell_type": "code",
   "execution_count": null,
   "metadata": {},
   "outputs": [],
   "source": [
    "#Execution of the exchange algorithm \n",
    "isi3 = isi.exchange_algorithm(0.2,100000,5000)"
   ]
  },
  {
   "cell_type": "code",
   "execution_count": null,
   "metadata": {},
   "outputs": [],
   "source": [
    "import matplotlib.pyplot as plt\n",
    "#We compute the autocorrelations of the gibbs sampler and the exchange algorithm to check if they converge towards zero\n",
    "def autocorr(x):\n",
    "    result = np.correlate(x, x, mode='full')\n",
    "    return result[result.size // 2:]\n",
    "\n",
    "\n",
    "plt.plot(autocorr(isi2[1])/ (autocorr(isi2[1])[0]))"
   ]
  },
  {
   "cell_type": "code",
   "execution_count": null,
   "metadata": {},
   "outputs": [],
   "source": [
    "plt.plot(autocorr(isi3[1]) / (autocorr(isi3[1])[0]))"
   ]
  },
  {
   "cell_type": "code",
   "execution_count": 148,
   "metadata": {},
   "outputs": [],
   "source": [
    "#Function to plot the evolution of means of the betas with the number of iterations\n",
    "moy = []\n",
    "for k in range(len(isi3[1])) :\n",
    "    l = []\n",
    "    for i in range(k+1) :\n",
    "        l.append(isi3[1][i])\n",
    "    moy.append(sum(l)/len(l))"
   ]
  },
  {
   "cell_type": "code",
   "execution_count": null,
   "metadata": {},
   "outputs": [],
   "source": [
    "#We plot the evolution of the mean of the betas to check if it converges (it converges towards a value such that the mean of the posterior converges towards 0.2)\n",
    "plt.plot(range(len(moy)),moy)"
   ]
  },
  {
   "cell_type": "code",
   "execution_count": null,
   "metadata": {},
   "outputs": [],
   "source": [
    "#Note : since the algorithm take a lot of time to execute (for example, the exchange can take multiple hours depending of the parameters), the plots are on a different document"
   ]
  }
 ],
 "metadata": {
  "kernelspec": {
   "display_name": "base",
   "language": "python",
   "name": "python3"
  },
  "language_info": {
   "codemirror_mode": {
    "name": "ipython",
    "version": 3
   },
   "file_extension": ".py",
   "mimetype": "text/x-python",
   "name": "python",
   "nbconvert_exporter": "python",
   "pygments_lexer": "ipython3",
   "version": "3.9.13"
  },
  "orig_nbformat": 4
 },
 "nbformat": 4,
 "nbformat_minor": 2
}
